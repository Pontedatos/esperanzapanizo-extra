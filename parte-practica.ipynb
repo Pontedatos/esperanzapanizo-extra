{
 "cells": [
  {
   "cell_type": "markdown",
   "metadata": {},
   "source": [
    "La url utilizada será https://api.covid19api.com/countries"
   ]
  },
  {
   "cell_type": "markdown",
   "metadata": {},
   "source": [
    "Instalamos las librerías."
   ]
  },
  {
   "cell_type": "code",
   "execution_count": 2,
   "metadata": {},
   "outputs": [
    {
     "name": "stdout",
     "output_type": "stream",
     "text": [
      "Requirement already satisfied: pandas in /usr/local/lib/python3.8/dist-packages (1.3.1)\n",
      "Requirement already satisfied: numpy>=1.17.3 in /usr/local/lib/python3.8/dist-packages (from pandas) (1.21.1)\n",
      "Requirement already satisfied: pytz>=2017.3 in /usr/local/lib/python3.8/dist-packages (from pandas) (2020.4)\n",
      "Requirement already satisfied: python-dateutil>=2.7.3 in /usr/local/lib/python3.8/dist-packages (from pandas) (2.8.1)\n",
      "Requirement already satisfied: six>=1.5 in /usr/lib/python3/dist-packages (from python-dateutil>=2.7.3->pandas) (1.14.0)\n"
     ]
    }
   ],
   "source": [
    "!pip install pandas"
   ]
  },
  {
   "cell_type": "markdown",
   "metadata": {},
   "source": [
    "Ya estaban instaladas pero así se ve el proceso. Ahora se importarían. "
   ]
  },
  {
   "cell_type": "code",
   "execution_count": 4,
   "metadata": {},
   "outputs": [],
   "source": [
    "import pandas as pd"
   ]
  },
  {
   "cell_type": "markdown",
   "metadata": {},
   "source": [
    "Definimos la url "
   ]
  },
  {
   "cell_type": "code",
   "execution_count": 5,
   "metadata": {},
   "outputs": [],
   "source": [
    "url = 'https://api.covid19api.com/countries'"
   ]
  },
  {
   "cell_type": "code",
   "execution_count": 6,
   "metadata": {},
   "outputs": [
    {
     "data": {
      "text/plain": [
       "'https://api.covid19api.com/countries'"
      ]
     },
     "execution_count": 6,
     "metadata": {},
     "output_type": "execute_result"
    }
   ],
   "source": [
    "url"
   ]
  },
  {
   "cell_type": "markdown",
   "metadata": {},
   "source": [
    "Creamos el dataframe. "
   ]
  },
  {
   "cell_type": "code",
   "execution_count": 7,
   "metadata": {},
   "outputs": [],
   "source": [
    "df = pd.read_json(url)"
   ]
  },
  {
   "cell_type": "code",
   "execution_count": 8,
   "metadata": {},
   "outputs": [
    {
     "data": {
      "text/html": [
       "<div>\n",
       "<style scoped>\n",
       "    .dataframe tbody tr th:only-of-type {\n",
       "        vertical-align: middle;\n",
       "    }\n",
       "\n",
       "    .dataframe tbody tr th {\n",
       "        vertical-align: top;\n",
       "    }\n",
       "\n",
       "    .dataframe thead th {\n",
       "        text-align: right;\n",
       "    }\n",
       "</style>\n",
       "<table border=\"1\" class=\"dataframe\">\n",
       "  <thead>\n",
       "    <tr style=\"text-align: right;\">\n",
       "      <th></th>\n",
       "      <th>Country</th>\n",
       "      <th>Slug</th>\n",
       "      <th>ISO2</th>\n",
       "    </tr>\n",
       "  </thead>\n",
       "  <tbody>\n",
       "    <tr>\n",
       "      <th>0</th>\n",
       "      <td>Falkland Islands (Malvinas)</td>\n",
       "      <td>falkland-islands-malvinas</td>\n",
       "      <td>FK</td>\n",
       "    </tr>\n",
       "    <tr>\n",
       "      <th>1</th>\n",
       "      <td>Panama</td>\n",
       "      <td>panama</td>\n",
       "      <td>PA</td>\n",
       "    </tr>\n",
       "    <tr>\n",
       "      <th>2</th>\n",
       "      <td>Russian Federation</td>\n",
       "      <td>russia</td>\n",
       "      <td>RU</td>\n",
       "    </tr>\n",
       "    <tr>\n",
       "      <th>3</th>\n",
       "      <td>Turkmenistan</td>\n",
       "      <td>turkmenistan</td>\n",
       "      <td>TM</td>\n",
       "    </tr>\n",
       "    <tr>\n",
       "      <th>4</th>\n",
       "      <td>Guinea</td>\n",
       "      <td>guinea</td>\n",
       "      <td>GN</td>\n",
       "    </tr>\n",
       "    <tr>\n",
       "      <th>...</th>\n",
       "      <td>...</td>\n",
       "      <td>...</td>\n",
       "      <td>...</td>\n",
       "    </tr>\n",
       "    <tr>\n",
       "      <th>243</th>\n",
       "      <td>Guyana</td>\n",
       "      <td>guyana</td>\n",
       "      <td>GY</td>\n",
       "    </tr>\n",
       "    <tr>\n",
       "      <th>244</th>\n",
       "      <td>Hungary</td>\n",
       "      <td>hungary</td>\n",
       "      <td>HU</td>\n",
       "    </tr>\n",
       "    <tr>\n",
       "      <th>245</th>\n",
       "      <td>Kazakhstan</td>\n",
       "      <td>kazakhstan</td>\n",
       "      <td>KZ</td>\n",
       "    </tr>\n",
       "    <tr>\n",
       "      <th>246</th>\n",
       "      <td>Liberia</td>\n",
       "      <td>liberia</td>\n",
       "      <td>LR</td>\n",
       "    </tr>\n",
       "    <tr>\n",
       "      <th>247</th>\n",
       "      <td>Somalia</td>\n",
       "      <td>somalia</td>\n",
       "      <td>SO</td>\n",
       "    </tr>\n",
       "  </tbody>\n",
       "</table>\n",
       "<p>248 rows × 3 columns</p>\n",
       "</div>"
      ],
      "text/plain": [
       "                         Country                       Slug ISO2\n",
       "0    Falkland Islands (Malvinas)  falkland-islands-malvinas   FK\n",
       "1                         Panama                     panama   PA\n",
       "2             Russian Federation                     russia   RU\n",
       "3                   Turkmenistan               turkmenistan   TM\n",
       "4                         Guinea                     guinea   GN\n",
       "..                           ...                        ...  ...\n",
       "243                       Guyana                     guyana   GY\n",
       "244                      Hungary                    hungary   HU\n",
       "245                   Kazakhstan                 kazakhstan   KZ\n",
       "246                      Liberia                    liberia   LR\n",
       "247                      Somalia                    somalia   SO\n",
       "\n",
       "[248 rows x 3 columns]"
      ]
     },
     "execution_count": 8,
     "metadata": {},
     "output_type": "execute_result"
    }
   ],
   "source": [
    "df"
   ]
  },
  {
   "cell_type": "markdown",
   "metadata": {},
   "source": [
    "Así se ven solo los primeros: "
   ]
  },
  {
   "cell_type": "code",
   "execution_count": 9,
   "metadata": {},
   "outputs": [
    {
     "data": {
      "text/plain": [
       "<bound method NDFrame.head of                          Country                       Slug ISO2\n",
       "0    Falkland Islands (Malvinas)  falkland-islands-malvinas   FK\n",
       "1                         Panama                     panama   PA\n",
       "2             Russian Federation                     russia   RU\n",
       "3                   Turkmenistan               turkmenistan   TM\n",
       "4                         Guinea                     guinea   GN\n",
       "..                           ...                        ...  ...\n",
       "243                       Guyana                     guyana   GY\n",
       "244                      Hungary                    hungary   HU\n",
       "245                   Kazakhstan                 kazakhstan   KZ\n",
       "246                      Liberia                    liberia   LR\n",
       "247                      Somalia                    somalia   SO\n",
       "\n",
       "[248 rows x 3 columns]>"
      ]
     },
     "execution_count": 9,
     "metadata": {},
     "output_type": "execute_result"
    }
   ],
   "source": [
    "df.head"
   ]
  },
  {
   "cell_type": "markdown",
   "metadata": {},
   "source": [
    "Así los últimos:"
   ]
  },
  {
   "cell_type": "code",
   "execution_count": 11,
   "metadata": {},
   "outputs": [
    {
     "data": {
      "text/plain": [
       "<bound method NDFrame.tail of                          Country                       Slug ISO2\n",
       "0    Falkland Islands (Malvinas)  falkland-islands-malvinas   FK\n",
       "1                         Panama                     panama   PA\n",
       "2             Russian Federation                     russia   RU\n",
       "3                   Turkmenistan               turkmenistan   TM\n",
       "4                         Guinea                     guinea   GN\n",
       "..                           ...                        ...  ...\n",
       "243                       Guyana                     guyana   GY\n",
       "244                      Hungary                    hungary   HU\n",
       "245                   Kazakhstan                 kazakhstan   KZ\n",
       "246                      Liberia                    liberia   LR\n",
       "247                      Somalia                    somalia   SO\n",
       "\n",
       "[248 rows x 3 columns]>"
      ]
     },
     "execution_count": 11,
     "metadata": {},
     "output_type": "execute_result"
    }
   ],
   "source": [
    "df.tail"
   ]
  },
  {
   "cell_type": "markdown",
   "metadata": {},
   "source": [
    "Desglosamos las columnas:"
   ]
  },
  {
   "cell_type": "code",
   "execution_count": 13,
   "metadata": {},
   "outputs": [
    {
     "data": {
      "text/plain": [
       "Index(['Country', 'Slug', 'ISO2'], dtype='object')"
      ]
     },
     "execution_count": 13,
     "metadata": {},
     "output_type": "execute_result"
    }
   ],
   "source": [
    "df.columns"
   ]
  },
  {
   "cell_type": "code",
   "execution_count": 14,
   "metadata": {},
   "outputs": [
    {
     "name": "stdout",
     "output_type": "stream",
     "text": [
      "<class 'pandas.core.frame.DataFrame'>\n",
      "RangeIndex: 248 entries, 0 to 247\n",
      "Data columns (total 3 columns):\n",
      " #   Column   Non-Null Count  Dtype \n",
      "---  ------   --------------  ----- \n",
      " 0   Country  248 non-null    object\n",
      " 1   Slug     248 non-null    object\n",
      " 2   ISO2     248 non-null    object\n",
      "dtypes: object(3)\n",
      "memory usage: 5.9+ KB\n"
     ]
    }
   ],
   "source": [
    "df.info()"
   ]
  },
  {
   "cell_type": "code",
   "execution_count": 16,
   "metadata": {},
   "outputs": [
    {
     "data": {
      "text/html": [
       "<div>\n",
       "<style scoped>\n",
       "    .dataframe tbody tr th:only-of-type {\n",
       "        vertical-align: middle;\n",
       "    }\n",
       "\n",
       "    .dataframe tbody tr th {\n",
       "        vertical-align: top;\n",
       "    }\n",
       "\n",
       "    .dataframe thead th {\n",
       "        text-align: right;\n",
       "    }\n",
       "</style>\n",
       "<table border=\"1\" class=\"dataframe\">\n",
       "  <thead>\n",
       "    <tr style=\"text-align: right;\">\n",
       "      <th></th>\n",
       "      <th>Slug</th>\n",
       "      <th>ISO2</th>\n",
       "    </tr>\n",
       "    <tr>\n",
       "      <th>Country</th>\n",
       "      <th></th>\n",
       "      <th></th>\n",
       "    </tr>\n",
       "  </thead>\n",
       "  <tbody>\n",
       "    <tr>\n",
       "      <th>Falkland Islands (Malvinas)</th>\n",
       "      <td>falkland-islands-malvinas</td>\n",
       "      <td>FK</td>\n",
       "    </tr>\n",
       "    <tr>\n",
       "      <th>Panama</th>\n",
       "      <td>panama</td>\n",
       "      <td>PA</td>\n",
       "    </tr>\n",
       "    <tr>\n",
       "      <th>Russian Federation</th>\n",
       "      <td>russia</td>\n",
       "      <td>RU</td>\n",
       "    </tr>\n",
       "    <tr>\n",
       "      <th>Turkmenistan</th>\n",
       "      <td>turkmenistan</td>\n",
       "      <td>TM</td>\n",
       "    </tr>\n",
       "    <tr>\n",
       "      <th>Guinea</th>\n",
       "      <td>guinea</td>\n",
       "      <td>GN</td>\n",
       "    </tr>\n",
       "    <tr>\n",
       "      <th>...</th>\n",
       "      <td>...</td>\n",
       "      <td>...</td>\n",
       "    </tr>\n",
       "    <tr>\n",
       "      <th>Guyana</th>\n",
       "      <td>guyana</td>\n",
       "      <td>GY</td>\n",
       "    </tr>\n",
       "    <tr>\n",
       "      <th>Hungary</th>\n",
       "      <td>hungary</td>\n",
       "      <td>HU</td>\n",
       "    </tr>\n",
       "    <tr>\n",
       "      <th>Kazakhstan</th>\n",
       "      <td>kazakhstan</td>\n",
       "      <td>KZ</td>\n",
       "    </tr>\n",
       "    <tr>\n",
       "      <th>Liberia</th>\n",
       "      <td>liberia</td>\n",
       "      <td>LR</td>\n",
       "    </tr>\n",
       "    <tr>\n",
       "      <th>Somalia</th>\n",
       "      <td>somalia</td>\n",
       "      <td>SO</td>\n",
       "    </tr>\n",
       "  </tbody>\n",
       "</table>\n",
       "<p>248 rows × 2 columns</p>\n",
       "</div>"
      ],
      "text/plain": [
       "                                                  Slug ISO2\n",
       "Country                                                    \n",
       "Falkland Islands (Malvinas)  falkland-islands-malvinas   FK\n",
       "Panama                                          panama   PA\n",
       "Russian Federation                              russia   RU\n",
       "Turkmenistan                              turkmenistan   TM\n",
       "Guinea                                          guinea   GN\n",
       "...                                                ...  ...\n",
       "Guyana                                          guyana   GY\n",
       "Hungary                                        hungary   HU\n",
       "Kazakhstan                                  kazakhstan   KZ\n",
       "Liberia                                        liberia   LR\n",
       "Somalia                                        somalia   SO\n",
       "\n",
       "[248 rows x 2 columns]"
      ]
     },
     "execution_count": 16,
     "metadata": {},
     "output_type": "execute_result"
    }
   ],
   "source": [
    "df.set_index('Country')"
   ]
  },
  {
   "cell_type": "markdown",
   "metadata": {},
   "source": [
    "Vamos a ver los datos de algunos países (España, Francia e Italia) en tiempo real. "
   ]
  },
  {
   "cell_type": "code",
   "execution_count": 20,
   "metadata": {},
   "outputs": [],
   "source": [
    "url_es = 'https://api.covid19api.com/country/spain/status/confirmed/live'"
   ]
  },
  {
   "cell_type": "code",
   "execution_count": 21,
   "metadata": {},
   "outputs": [],
   "source": [
    "url_fr = 'https://api.covid19api.com/country/france/status/confirmed/live'"
   ]
  },
  {
   "cell_type": "code",
   "execution_count": 22,
   "metadata": {},
   "outputs": [],
   "source": [
    "url_it = 'https://api.covid19api.com/country/italy/status/confirmed/live'"
   ]
  },
  {
   "cell_type": "code",
   "execution_count": 24,
   "metadata": {},
   "outputs": [],
   "source": [
    "df_es = pd.read_json(url_es)\n",
    "df_fr = pd.read_json(url_fr)\n",
    "df_it = pd.read_json(url_it)"
   ]
  },
  {
   "cell_type": "code",
   "execution_count": 25,
   "metadata": {},
   "outputs": [
    {
     "data": {
      "text/html": [
       "<div>\n",
       "<style scoped>\n",
       "    .dataframe tbody tr th:only-of-type {\n",
       "        vertical-align: middle;\n",
       "    }\n",
       "\n",
       "    .dataframe tbody tr th {\n",
       "        vertical-align: top;\n",
       "    }\n",
       "\n",
       "    .dataframe thead th {\n",
       "        text-align: right;\n",
       "    }\n",
       "</style>\n",
       "<table border=\"1\" class=\"dataframe\">\n",
       "  <thead>\n",
       "    <tr style=\"text-align: right;\">\n",
       "      <th></th>\n",
       "      <th>Country</th>\n",
       "      <th>CountryCode</th>\n",
       "      <th>Province</th>\n",
       "      <th>City</th>\n",
       "      <th>CityCode</th>\n",
       "      <th>Lat</th>\n",
       "      <th>Lon</th>\n",
       "      <th>Cases</th>\n",
       "      <th>Status</th>\n",
       "      <th>Date</th>\n",
       "    </tr>\n",
       "  </thead>\n",
       "  <tbody>\n",
       "    <tr>\n",
       "      <th>0</th>\n",
       "      <td>Spain</td>\n",
       "      <td>ES</td>\n",
       "      <td></td>\n",
       "      <td></td>\n",
       "      <td></td>\n",
       "      <td>40.46</td>\n",
       "      <td>-3.75</td>\n",
       "      <td>0</td>\n",
       "      <td>confirmed</td>\n",
       "      <td>2020-01-22 00:00:00+00:00</td>\n",
       "    </tr>\n",
       "    <tr>\n",
       "      <th>1</th>\n",
       "      <td>Spain</td>\n",
       "      <td>ES</td>\n",
       "      <td></td>\n",
       "      <td></td>\n",
       "      <td></td>\n",
       "      <td>40.46</td>\n",
       "      <td>-3.75</td>\n",
       "      <td>0</td>\n",
       "      <td>confirmed</td>\n",
       "      <td>2020-01-23 00:00:00+00:00</td>\n",
       "    </tr>\n",
       "    <tr>\n",
       "      <th>2</th>\n",
       "      <td>Spain</td>\n",
       "      <td>ES</td>\n",
       "      <td></td>\n",
       "      <td></td>\n",
       "      <td></td>\n",
       "      <td>40.46</td>\n",
       "      <td>-3.75</td>\n",
       "      <td>0</td>\n",
       "      <td>confirmed</td>\n",
       "      <td>2020-01-24 00:00:00+00:00</td>\n",
       "    </tr>\n",
       "    <tr>\n",
       "      <th>3</th>\n",
       "      <td>Spain</td>\n",
       "      <td>ES</td>\n",
       "      <td></td>\n",
       "      <td></td>\n",
       "      <td></td>\n",
       "      <td>40.46</td>\n",
       "      <td>-3.75</td>\n",
       "      <td>0</td>\n",
       "      <td>confirmed</td>\n",
       "      <td>2020-01-25 00:00:00+00:00</td>\n",
       "    </tr>\n",
       "    <tr>\n",
       "      <th>4</th>\n",
       "      <td>Spain</td>\n",
       "      <td>ES</td>\n",
       "      <td></td>\n",
       "      <td></td>\n",
       "      <td></td>\n",
       "      <td>40.46</td>\n",
       "      <td>-3.75</td>\n",
       "      <td>0</td>\n",
       "      <td>confirmed</td>\n",
       "      <td>2020-01-26 00:00:00+00:00</td>\n",
       "    </tr>\n",
       "    <tr>\n",
       "      <th>...</th>\n",
       "      <td>...</td>\n",
       "      <td>...</td>\n",
       "      <td>...</td>\n",
       "      <td>...</td>\n",
       "      <td>...</td>\n",
       "      <td>...</td>\n",
       "      <td>...</td>\n",
       "      <td>...</td>\n",
       "      <td>...</td>\n",
       "      <td>...</td>\n",
       "    </tr>\n",
       "    <tr>\n",
       "      <th>883</th>\n",
       "      <td>Spain</td>\n",
       "      <td>ES</td>\n",
       "      <td></td>\n",
       "      <td></td>\n",
       "      <td></td>\n",
       "      <td>40.46</td>\n",
       "      <td>-3.75</td>\n",
       "      <td>12613634</td>\n",
       "      <td>confirmed</td>\n",
       "      <td>2022-06-23 00:00:00+00:00</td>\n",
       "    </tr>\n",
       "    <tr>\n",
       "      <th>884</th>\n",
       "      <td>Spain</td>\n",
       "      <td>ES</td>\n",
       "      <td></td>\n",
       "      <td></td>\n",
       "      <td></td>\n",
       "      <td>40.46</td>\n",
       "      <td>-3.75</td>\n",
       "      <td>12681820</td>\n",
       "      <td>confirmed</td>\n",
       "      <td>2022-06-24 00:00:00+00:00</td>\n",
       "    </tr>\n",
       "    <tr>\n",
       "      <th>885</th>\n",
       "      <td>Spain</td>\n",
       "      <td>ES</td>\n",
       "      <td></td>\n",
       "      <td></td>\n",
       "      <td></td>\n",
       "      <td>40.46</td>\n",
       "      <td>-3.75</td>\n",
       "      <td>12681820</td>\n",
       "      <td>confirmed</td>\n",
       "      <td>2022-06-25 00:00:00+00:00</td>\n",
       "    </tr>\n",
       "    <tr>\n",
       "      <th>886</th>\n",
       "      <td>Spain</td>\n",
       "      <td>ES</td>\n",
       "      <td></td>\n",
       "      <td></td>\n",
       "      <td></td>\n",
       "      <td>40.46</td>\n",
       "      <td>-3.75</td>\n",
       "      <td>12681820</td>\n",
       "      <td>confirmed</td>\n",
       "      <td>2022-06-26 00:00:00+00:00</td>\n",
       "    </tr>\n",
       "    <tr>\n",
       "      <th>887</th>\n",
       "      <td>Spain</td>\n",
       "      <td>ES</td>\n",
       "      <td></td>\n",
       "      <td></td>\n",
       "      <td></td>\n",
       "      <td>40.46</td>\n",
       "      <td>-3.75</td>\n",
       "      <td>12681820</td>\n",
       "      <td>confirmed</td>\n",
       "      <td>2022-06-27 00:00:00+00:00</td>\n",
       "    </tr>\n",
       "  </tbody>\n",
       "</table>\n",
       "<p>888 rows × 10 columns</p>\n",
       "</div>"
      ],
      "text/plain": [
       "    Country CountryCode Province City CityCode    Lat   Lon     Cases  \\\n",
       "0     Spain          ES                         40.46 -3.75         0   \n",
       "1     Spain          ES                         40.46 -3.75         0   \n",
       "2     Spain          ES                         40.46 -3.75         0   \n",
       "3     Spain          ES                         40.46 -3.75         0   \n",
       "4     Spain          ES                         40.46 -3.75         0   \n",
       "..      ...         ...      ...  ...      ...    ...   ...       ...   \n",
       "883   Spain          ES                         40.46 -3.75  12613634   \n",
       "884   Spain          ES                         40.46 -3.75  12681820   \n",
       "885   Spain          ES                         40.46 -3.75  12681820   \n",
       "886   Spain          ES                         40.46 -3.75  12681820   \n",
       "887   Spain          ES                         40.46 -3.75  12681820   \n",
       "\n",
       "        Status                      Date  \n",
       "0    confirmed 2020-01-22 00:00:00+00:00  \n",
       "1    confirmed 2020-01-23 00:00:00+00:00  \n",
       "2    confirmed 2020-01-24 00:00:00+00:00  \n",
       "3    confirmed 2020-01-25 00:00:00+00:00  \n",
       "4    confirmed 2020-01-26 00:00:00+00:00  \n",
       "..         ...                       ...  \n",
       "883  confirmed 2022-06-23 00:00:00+00:00  \n",
       "884  confirmed 2022-06-24 00:00:00+00:00  \n",
       "885  confirmed 2022-06-25 00:00:00+00:00  \n",
       "886  confirmed 2022-06-26 00:00:00+00:00  \n",
       "887  confirmed 2022-06-27 00:00:00+00:00  \n",
       "\n",
       "[888 rows x 10 columns]"
      ]
     },
     "execution_count": 25,
     "metadata": {},
     "output_type": "execute_result"
    }
   ],
   "source": [
    "df_es"
   ]
  },
  {
   "cell_type": "code",
   "execution_count": 26,
   "metadata": {},
   "outputs": [
    {
     "data": {
      "text/html": [
       "<div>\n",
       "<style scoped>\n",
       "    .dataframe tbody tr th:only-of-type {\n",
       "        vertical-align: middle;\n",
       "    }\n",
       "\n",
       "    .dataframe tbody tr th {\n",
       "        vertical-align: top;\n",
       "    }\n",
       "\n",
       "    .dataframe thead th {\n",
       "        text-align: right;\n",
       "    }\n",
       "</style>\n",
       "<table border=\"1\" class=\"dataframe\">\n",
       "  <thead>\n",
       "    <tr style=\"text-align: right;\">\n",
       "      <th></th>\n",
       "      <th>Country</th>\n",
       "      <th>CountryCode</th>\n",
       "      <th>Province</th>\n",
       "      <th>City</th>\n",
       "      <th>CityCode</th>\n",
       "      <th>Lat</th>\n",
       "      <th>Lon</th>\n",
       "      <th>Cases</th>\n",
       "      <th>Status</th>\n",
       "      <th>Date</th>\n",
       "    </tr>\n",
       "  </thead>\n",
       "  <tbody>\n",
       "    <tr>\n",
       "      <th>0</th>\n",
       "      <td>France</td>\n",
       "      <td>FR</td>\n",
       "      <td>Martinique</td>\n",
       "      <td></td>\n",
       "      <td></td>\n",
       "      <td>14.64</td>\n",
       "      <td>-61.02</td>\n",
       "      <td>0</td>\n",
       "      <td>confirmed</td>\n",
       "      <td>2020-01-22 00:00:00+00:00</td>\n",
       "    </tr>\n",
       "    <tr>\n",
       "      <th>1</th>\n",
       "      <td>France</td>\n",
       "      <td>FR</td>\n",
       "      <td>New Caledonia</td>\n",
       "      <td></td>\n",
       "      <td></td>\n",
       "      <td>-20.90</td>\n",
       "      <td>165.62</td>\n",
       "      <td>0</td>\n",
       "      <td>confirmed</td>\n",
       "      <td>2020-01-22 00:00:00+00:00</td>\n",
       "    </tr>\n",
       "    <tr>\n",
       "      <th>2</th>\n",
       "      <td>France</td>\n",
       "      <td>FR</td>\n",
       "      <td>Reunion</td>\n",
       "      <td></td>\n",
       "      <td></td>\n",
       "      <td>-21.12</td>\n",
       "      <td>55.54</td>\n",
       "      <td>0</td>\n",
       "      <td>confirmed</td>\n",
       "      <td>2020-01-22 00:00:00+00:00</td>\n",
       "    </tr>\n",
       "    <tr>\n",
       "      <th>3</th>\n",
       "      <td>France</td>\n",
       "      <td>FR</td>\n",
       "      <td>Wallis and Futuna</td>\n",
       "      <td></td>\n",
       "      <td></td>\n",
       "      <td>-14.29</td>\n",
       "      <td>-178.12</td>\n",
       "      <td>0</td>\n",
       "      <td>confirmed</td>\n",
       "      <td>2020-01-22 00:00:00+00:00</td>\n",
       "    </tr>\n",
       "    <tr>\n",
       "      <th>4</th>\n",
       "      <td>France</td>\n",
       "      <td>FR</td>\n",
       "      <td>French Guiana</td>\n",
       "      <td></td>\n",
       "      <td></td>\n",
       "      <td>4.00</td>\n",
       "      <td>-53.00</td>\n",
       "      <td>0</td>\n",
       "      <td>confirmed</td>\n",
       "      <td>2020-01-22 00:00:00+00:00</td>\n",
       "    </tr>\n",
       "    <tr>\n",
       "      <th>...</th>\n",
       "      <td>...</td>\n",
       "      <td>...</td>\n",
       "      <td>...</td>\n",
       "      <td>...</td>\n",
       "      <td>...</td>\n",
       "      <td>...</td>\n",
       "      <td>...</td>\n",
       "      <td>...</td>\n",
       "      <td>...</td>\n",
       "      <td>...</td>\n",
       "    </tr>\n",
       "    <tr>\n",
       "      <th>10652</th>\n",
       "      <td>France</td>\n",
       "      <td>FR</td>\n",
       "      <td>Mayotte</td>\n",
       "      <td></td>\n",
       "      <td></td>\n",
       "      <td>-12.83</td>\n",
       "      <td>45.17</td>\n",
       "      <td>37877</td>\n",
       "      <td>confirmed</td>\n",
       "      <td>2022-06-27 00:00:00+00:00</td>\n",
       "    </tr>\n",
       "    <tr>\n",
       "      <th>10653</th>\n",
       "      <td>France</td>\n",
       "      <td>FR</td>\n",
       "      <td>Saint Barthelemy</td>\n",
       "      <td></td>\n",
       "      <td></td>\n",
       "      <td>17.90</td>\n",
       "      <td>-62.83</td>\n",
       "      <td>4671</td>\n",
       "      <td>confirmed</td>\n",
       "      <td>2022-06-27 00:00:00+00:00</td>\n",
       "    </tr>\n",
       "    <tr>\n",
       "      <th>10654</th>\n",
       "      <td>France</td>\n",
       "      <td>FR</td>\n",
       "      <td>French Guiana</td>\n",
       "      <td></td>\n",
       "      <td></td>\n",
       "      <td>3.93</td>\n",
       "      <td>-53.13</td>\n",
       "      <td>85596</td>\n",
       "      <td>confirmed</td>\n",
       "      <td>2022-06-27 00:00:00+00:00</td>\n",
       "    </tr>\n",
       "    <tr>\n",
       "      <th>10655</th>\n",
       "      <td>France</td>\n",
       "      <td>FR</td>\n",
       "      <td>Reunion</td>\n",
       "      <td></td>\n",
       "      <td></td>\n",
       "      <td>-21.12</td>\n",
       "      <td>55.54</td>\n",
       "      <td>421269</td>\n",
       "      <td>confirmed</td>\n",
       "      <td>2022-06-27 00:00:00+00:00</td>\n",
       "    </tr>\n",
       "    <tr>\n",
       "      <th>10656</th>\n",
       "      <td>France</td>\n",
       "      <td>FR</td>\n",
       "      <td></td>\n",
       "      <td></td>\n",
       "      <td></td>\n",
       "      <td>46.23</td>\n",
       "      <td>2.21</td>\n",
       "      <td>29823387</td>\n",
       "      <td>confirmed</td>\n",
       "      <td>2022-06-28 00:00:00+00:00</td>\n",
       "    </tr>\n",
       "  </tbody>\n",
       "</table>\n",
       "<p>10657 rows × 10 columns</p>\n",
       "</div>"
      ],
      "text/plain": [
       "      Country CountryCode           Province City CityCode    Lat     Lon  \\\n",
       "0      France          FR         Martinique                14.64  -61.02   \n",
       "1      France          FR      New Caledonia               -20.90  165.62   \n",
       "2      France          FR            Reunion               -21.12   55.54   \n",
       "3      France          FR  Wallis and Futuna               -14.29 -178.12   \n",
       "4      France          FR      French Guiana                 4.00  -53.00   \n",
       "...       ...         ...                ...  ...      ...    ...     ...   \n",
       "10652  France          FR            Mayotte               -12.83   45.17   \n",
       "10653  France          FR   Saint Barthelemy                17.90  -62.83   \n",
       "10654  France          FR      French Guiana                 3.93  -53.13   \n",
       "10655  France          FR            Reunion               -21.12   55.54   \n",
       "10656  France          FR                                   46.23    2.21   \n",
       "\n",
       "          Cases     Status                      Date  \n",
       "0             0  confirmed 2020-01-22 00:00:00+00:00  \n",
       "1             0  confirmed 2020-01-22 00:00:00+00:00  \n",
       "2             0  confirmed 2020-01-22 00:00:00+00:00  \n",
       "3             0  confirmed 2020-01-22 00:00:00+00:00  \n",
       "4             0  confirmed 2020-01-22 00:00:00+00:00  \n",
       "...         ...        ...                       ...  \n",
       "10652     37877  confirmed 2022-06-27 00:00:00+00:00  \n",
       "10653      4671  confirmed 2022-06-27 00:00:00+00:00  \n",
       "10654     85596  confirmed 2022-06-27 00:00:00+00:00  \n",
       "10655    421269  confirmed 2022-06-27 00:00:00+00:00  \n",
       "10656  29823387  confirmed 2022-06-28 00:00:00+00:00  \n",
       "\n",
       "[10657 rows x 10 columns]"
      ]
     },
     "execution_count": 26,
     "metadata": {},
     "output_type": "execute_result"
    }
   ],
   "source": [
    "df_fr"
   ]
  },
  {
   "cell_type": "code",
   "execution_count": 27,
   "metadata": {},
   "outputs": [
    {
     "data": {
      "text/html": [
       "<div>\n",
       "<style scoped>\n",
       "    .dataframe tbody tr th:only-of-type {\n",
       "        vertical-align: middle;\n",
       "    }\n",
       "\n",
       "    .dataframe tbody tr th {\n",
       "        vertical-align: top;\n",
       "    }\n",
       "\n",
       "    .dataframe thead th {\n",
       "        text-align: right;\n",
       "    }\n",
       "</style>\n",
       "<table border=\"1\" class=\"dataframe\">\n",
       "  <thead>\n",
       "    <tr style=\"text-align: right;\">\n",
       "      <th></th>\n",
       "      <th>Country</th>\n",
       "      <th>CountryCode</th>\n",
       "      <th>Province</th>\n",
       "      <th>City</th>\n",
       "      <th>CityCode</th>\n",
       "      <th>Lat</th>\n",
       "      <th>Lon</th>\n",
       "      <th>Cases</th>\n",
       "      <th>Status</th>\n",
       "      <th>Date</th>\n",
       "    </tr>\n",
       "  </thead>\n",
       "  <tbody>\n",
       "    <tr>\n",
       "      <th>0</th>\n",
       "      <td>Italy</td>\n",
       "      <td>IT</td>\n",
       "      <td></td>\n",
       "      <td></td>\n",
       "      <td></td>\n",
       "      <td>41.87</td>\n",
       "      <td>12.57</td>\n",
       "      <td>0</td>\n",
       "      <td>confirmed</td>\n",
       "      <td>2020-01-22 00:00:00+00:00</td>\n",
       "    </tr>\n",
       "    <tr>\n",
       "      <th>1</th>\n",
       "      <td>Italy</td>\n",
       "      <td>IT</td>\n",
       "      <td></td>\n",
       "      <td></td>\n",
       "      <td></td>\n",
       "      <td>41.87</td>\n",
       "      <td>12.57</td>\n",
       "      <td>0</td>\n",
       "      <td>confirmed</td>\n",
       "      <td>2020-01-23 00:00:00+00:00</td>\n",
       "    </tr>\n",
       "    <tr>\n",
       "      <th>2</th>\n",
       "      <td>Italy</td>\n",
       "      <td>IT</td>\n",
       "      <td></td>\n",
       "      <td></td>\n",
       "      <td></td>\n",
       "      <td>41.87</td>\n",
       "      <td>12.57</td>\n",
       "      <td>0</td>\n",
       "      <td>confirmed</td>\n",
       "      <td>2020-01-24 00:00:00+00:00</td>\n",
       "    </tr>\n",
       "    <tr>\n",
       "      <th>3</th>\n",
       "      <td>Italy</td>\n",
       "      <td>IT</td>\n",
       "      <td></td>\n",
       "      <td></td>\n",
       "      <td></td>\n",
       "      <td>41.87</td>\n",
       "      <td>12.57</td>\n",
       "      <td>0</td>\n",
       "      <td>confirmed</td>\n",
       "      <td>2020-01-25 00:00:00+00:00</td>\n",
       "    </tr>\n",
       "    <tr>\n",
       "      <th>4</th>\n",
       "      <td>Italy</td>\n",
       "      <td>IT</td>\n",
       "      <td></td>\n",
       "      <td></td>\n",
       "      <td></td>\n",
       "      <td>41.87</td>\n",
       "      <td>12.57</td>\n",
       "      <td>0</td>\n",
       "      <td>confirmed</td>\n",
       "      <td>2020-01-26 00:00:00+00:00</td>\n",
       "    </tr>\n",
       "    <tr>\n",
       "      <th>...</th>\n",
       "      <td>...</td>\n",
       "      <td>...</td>\n",
       "      <td>...</td>\n",
       "      <td>...</td>\n",
       "      <td>...</td>\n",
       "      <td>...</td>\n",
       "      <td>...</td>\n",
       "      <td>...</td>\n",
       "      <td>...</td>\n",
       "      <td>...</td>\n",
       "    </tr>\n",
       "    <tr>\n",
       "      <th>883</th>\n",
       "      <td>Italy</td>\n",
       "      <td>IT</td>\n",
       "      <td></td>\n",
       "      <td></td>\n",
       "      <td></td>\n",
       "      <td>41.87</td>\n",
       "      <td>12.57</td>\n",
       "      <td>18071634</td>\n",
       "      <td>confirmed</td>\n",
       "      <td>2022-06-23 00:00:00+00:00</td>\n",
       "    </tr>\n",
       "    <tr>\n",
       "      <th>884</th>\n",
       "      <td>Italy</td>\n",
       "      <td>IT</td>\n",
       "      <td></td>\n",
       "      <td></td>\n",
       "      <td></td>\n",
       "      <td>41.87</td>\n",
       "      <td>12.57</td>\n",
       "      <td>18128044</td>\n",
       "      <td>confirmed</td>\n",
       "      <td>2022-06-24 00:00:00+00:00</td>\n",
       "    </tr>\n",
       "    <tr>\n",
       "      <th>885</th>\n",
       "      <td>Italy</td>\n",
       "      <td>IT</td>\n",
       "      <td></td>\n",
       "      <td></td>\n",
       "      <td></td>\n",
       "      <td>41.87</td>\n",
       "      <td>12.57</td>\n",
       "      <td>18184917</td>\n",
       "      <td>confirmed</td>\n",
       "      <td>2022-06-25 00:00:00+00:00</td>\n",
       "    </tr>\n",
       "    <tr>\n",
       "      <th>886</th>\n",
       "      <td>Italy</td>\n",
       "      <td>IT</td>\n",
       "      <td></td>\n",
       "      <td></td>\n",
       "      <td></td>\n",
       "      <td>41.87</td>\n",
       "      <td>12.57</td>\n",
       "      <td>18234242</td>\n",
       "      <td>confirmed</td>\n",
       "      <td>2022-06-26 00:00:00+00:00</td>\n",
       "    </tr>\n",
       "    <tr>\n",
       "      <th>887</th>\n",
       "      <td>Italy</td>\n",
       "      <td>IT</td>\n",
       "      <td></td>\n",
       "      <td></td>\n",
       "      <td></td>\n",
       "      <td>41.87</td>\n",
       "      <td>12.57</td>\n",
       "      <td>18259261</td>\n",
       "      <td>confirmed</td>\n",
       "      <td>2022-06-27 00:00:00+00:00</td>\n",
       "    </tr>\n",
       "  </tbody>\n",
       "</table>\n",
       "<p>888 rows × 10 columns</p>\n",
       "</div>"
      ],
      "text/plain": [
       "    Country CountryCode Province City CityCode    Lat    Lon     Cases  \\\n",
       "0     Italy          IT                         41.87  12.57         0   \n",
       "1     Italy          IT                         41.87  12.57         0   \n",
       "2     Italy          IT                         41.87  12.57         0   \n",
       "3     Italy          IT                         41.87  12.57         0   \n",
       "4     Italy          IT                         41.87  12.57         0   \n",
       "..      ...         ...      ...  ...      ...    ...    ...       ...   \n",
       "883   Italy          IT                         41.87  12.57  18071634   \n",
       "884   Italy          IT                         41.87  12.57  18128044   \n",
       "885   Italy          IT                         41.87  12.57  18184917   \n",
       "886   Italy          IT                         41.87  12.57  18234242   \n",
       "887   Italy          IT                         41.87  12.57  18259261   \n",
       "\n",
       "        Status                      Date  \n",
       "0    confirmed 2020-01-22 00:00:00+00:00  \n",
       "1    confirmed 2020-01-23 00:00:00+00:00  \n",
       "2    confirmed 2020-01-24 00:00:00+00:00  \n",
       "3    confirmed 2020-01-25 00:00:00+00:00  \n",
       "4    confirmed 2020-01-26 00:00:00+00:00  \n",
       "..         ...                       ...  \n",
       "883  confirmed 2022-06-23 00:00:00+00:00  \n",
       "884  confirmed 2022-06-24 00:00:00+00:00  \n",
       "885  confirmed 2022-06-25 00:00:00+00:00  \n",
       "886  confirmed 2022-06-26 00:00:00+00:00  \n",
       "887  confirmed 2022-06-27 00:00:00+00:00  \n",
       "\n",
       "[888 rows x 10 columns]"
      ]
     },
     "execution_count": 27,
     "metadata": {},
     "output_type": "execute_result"
    }
   ],
   "source": [
    "df_it"
   ]
  },
  {
   "cell_type": "markdown",
   "metadata": {},
   "source": [
    "Vamos a acotarlo para ver solo los casos por fecha y se entienda mejor la tabla"
   ]
  },
  {
   "cell_type": "code",
   "execution_count": 29,
   "metadata": {},
   "outputs": [
    {
     "data": {
      "text/plain": [
       "Date\n",
       "2020-01-22 00:00:00+00:00           0\n",
       "2020-01-23 00:00:00+00:00           0\n",
       "2020-01-24 00:00:00+00:00           0\n",
       "2020-01-25 00:00:00+00:00           0\n",
       "2020-01-26 00:00:00+00:00           0\n",
       "                               ...   \n",
       "2022-06-23 00:00:00+00:00    12613634\n",
       "2022-06-24 00:00:00+00:00    12681820\n",
       "2022-06-25 00:00:00+00:00    12681820\n",
       "2022-06-26 00:00:00+00:00    12681820\n",
       "2022-06-27 00:00:00+00:00    12681820\n",
       "Name: Cases, Length: 888, dtype: int64"
      ]
     },
     "execution_count": 29,
     "metadata": {},
     "output_type": "execute_result"
    }
   ],
   "source": [
    "df_es.set_index('Date')['Cases']"
   ]
  },
  {
   "cell_type": "markdown",
   "metadata": {},
   "source": [
    "En gráfico lo veremos mejor..."
   ]
  },
  {
   "cell_type": "code",
   "execution_count": 30,
   "metadata": {},
   "outputs": [
    {
     "data": {
      "text/plain": [
       "<AxesSubplot:title={'center':'Casos de COVID en España'}, xlabel='Date'>"
      ]
     },
     "execution_count": 30,
     "metadata": {},
     "output_type": "execute_result"
    },
    {
     "data": {
      "image/png": "[encoded data removed]",
      "text/plain": [
       "<Figure size 432x288 with 1 Axes>"
      ]
     },
     "metadata": {
      "needs_background": "light"
     },
     "output_type": "display_data"
    }
   ],
   "source": [
    "df_es.set_index('Date')['Cases'].plot(title='Casos de COVID en España')"
   ]
  },
  {
   "cell_type": "markdown",
   "metadata": {},
   "source": [
    "Según este gráfico los datos han crecido considerablemente. Podemos interpretar que a pesar de haber más casos gracias a la inmunización los soportamos mejor y no hay tantas muertes. "
   ]
  },
  {
   "cell_type": "code",
   "execution_count": 43,
   "metadata": {},
   "outputs": [
    {
     "data": {
      "text/plain": [
       "<AxesSubplot:title={'center':'Casos de COVID en Francia'}, xlabel='Date'>"
      ]
     },
     "execution_count": 43,
     "metadata": {},
     "output_type": "execute_result"
    },
    {
     "data": {
      "image/png": "[encoded data removed]",
      "text/plain": [
       "<Figure size 432x288 with 1 Axes>"
      ]
     },
     "metadata": {
      "needs_background": "light"
     },
     "output_type": "display_data"
    }
   ],
   "source": [
    "df_fr.set_index('Date')['Cases'].plot(title='Casos de COVID en Francia')"
   ]
  },
  {
   "cell_type": "code",
   "execution_count": 44,
   "metadata": {},
   "outputs": [
    {
     "data": {
      "text/plain": [
       "<AxesSubplot:title={'center':'Casos de COVID en Italia'}, xlabel='Date'>"
      ]
     },
     "execution_count": 44,
     "metadata": {},
     "output_type": "execute_result"
    },
    {
     "data": {
      "image/png": "[encoded data removed]",
      "text/plain": [
       "<Figure size 432x288 with 1 Axes>"
      ]
     },
     "metadata": {
      "needs_background": "light"
     },
     "output_type": "display_data"
    }
   ],
   "source": [
    "df_it.set_index('Date')['Cases'].plot(title='Casos de COVID en Italia')"
   ]
  },
  {
   "cell_type": "markdown",
   "metadata": {},
   "source": [
    "Vamos a comparar la evolución de nuestros tres países en un solo gráfico. "
   ]
  },
  {
   "cell_type": "code",
   "execution_count": 31,
   "metadata": {},
   "outputs": [],
   "source": [
    "casos_es = df_es.set_index('Date')['Cases']\n",
    "casos_fr = df_fr.set_index('Date')['Cases']\n",
    "casos_it = df_it.set_index('Date')['Cases']"
   ]
  },
  {
   "cell_type": "markdown",
   "metadata": {},
   "source": [
    "Tras establecer estas nuevas variables, las concatenamos para después hacer el gráfico"
   ]
  },
  {
   "cell_type": "code",
   "execution_count": 33,
   "metadata": {},
   "outputs": [
    {
     "data": {
      "text/html": [
       "<div>\n",
       "<style scoped>\n",
       "    .dataframe tbody tr th:only-of-type {\n",
       "        vertical-align: middle;\n",
       "    }\n",
       "\n",
       "    .dataframe tbody tr th {\n",
       "        vertical-align: top;\n",
       "    }\n",
       "\n",
       "    .dataframe thead th {\n",
       "        text-align: right;\n",
       "    }\n",
       "</style>\n",
       "<table border=\"1\" class=\"dataframe\">\n",
       "  <thead>\n",
       "    <tr style=\"text-align: right;\">\n",
       "      <th></th>\n",
       "      <th>Cases</th>\n",
       "      <th>Cases</th>\n",
       "      <th>Cases</th>\n",
       "    </tr>\n",
       "    <tr>\n",
       "      <th>Date</th>\n",
       "      <th></th>\n",
       "      <th></th>\n",
       "      <th></th>\n",
       "    </tr>\n",
       "  </thead>\n",
       "  <tbody>\n",
       "    <tr>\n",
       "      <th>2020-01-22 00:00:00+00:00</th>\n",
       "      <td>0.0</td>\n",
       "      <td>0</td>\n",
       "      <td>0.0</td>\n",
       "    </tr>\n",
       "    <tr>\n",
       "      <th>2020-01-22 00:00:00+00:00</th>\n",
       "      <td>0.0</td>\n",
       "      <td>0</td>\n",
       "      <td>0.0</td>\n",
       "    </tr>\n",
       "    <tr>\n",
       "      <th>2020-01-22 00:00:00+00:00</th>\n",
       "      <td>0.0</td>\n",
       "      <td>0</td>\n",
       "      <td>0.0</td>\n",
       "    </tr>\n",
       "    <tr>\n",
       "      <th>2020-01-22 00:00:00+00:00</th>\n",
       "      <td>0.0</td>\n",
       "      <td>0</td>\n",
       "      <td>0.0</td>\n",
       "    </tr>\n",
       "    <tr>\n",
       "      <th>2020-01-22 00:00:00+00:00</th>\n",
       "      <td>0.0</td>\n",
       "      <td>0</td>\n",
       "      <td>0.0</td>\n",
       "    </tr>\n",
       "    <tr>\n",
       "      <th>...</th>\n",
       "      <td>...</td>\n",
       "      <td>...</td>\n",
       "      <td>...</td>\n",
       "    </tr>\n",
       "    <tr>\n",
       "      <th>2022-06-27 00:00:00+00:00</th>\n",
       "      <td>12681820.0</td>\n",
       "      <td>37877</td>\n",
       "      <td>18259261.0</td>\n",
       "    </tr>\n",
       "    <tr>\n",
       "      <th>2022-06-27 00:00:00+00:00</th>\n",
       "      <td>12681820.0</td>\n",
       "      <td>4671</td>\n",
       "      <td>18259261.0</td>\n",
       "    </tr>\n",
       "    <tr>\n",
       "      <th>2022-06-27 00:00:00+00:00</th>\n",
       "      <td>12681820.0</td>\n",
       "      <td>85596</td>\n",
       "      <td>18259261.0</td>\n",
       "    </tr>\n",
       "    <tr>\n",
       "      <th>2022-06-27 00:00:00+00:00</th>\n",
       "      <td>12681820.0</td>\n",
       "      <td>421269</td>\n",
       "      <td>18259261.0</td>\n",
       "    </tr>\n",
       "    <tr>\n",
       "      <th>2022-06-28 00:00:00+00:00</th>\n",
       "      <td>NaN</td>\n",
       "      <td>29823387</td>\n",
       "      <td>NaN</td>\n",
       "    </tr>\n",
       "  </tbody>\n",
       "</table>\n",
       "<p>10657 rows × 3 columns</p>\n",
       "</div>"
      ],
      "text/plain": [
       "                                Cases     Cases       Cases\n",
       "Date                                                       \n",
       "2020-01-22 00:00:00+00:00         0.0         0         0.0\n",
       "2020-01-22 00:00:00+00:00         0.0         0         0.0\n",
       "2020-01-22 00:00:00+00:00         0.0         0         0.0\n",
       "2020-01-22 00:00:00+00:00         0.0         0         0.0\n",
       "2020-01-22 00:00:00+00:00         0.0         0         0.0\n",
       "...                               ...       ...         ...\n",
       "2022-06-27 00:00:00+00:00  12681820.0     37877  18259261.0\n",
       "2022-06-27 00:00:00+00:00  12681820.0      4671  18259261.0\n",
       "2022-06-27 00:00:00+00:00  12681820.0     85596  18259261.0\n",
       "2022-06-27 00:00:00+00:00  12681820.0    421269  18259261.0\n",
       "2022-06-28 00:00:00+00:00         NaN  29823387         NaN\n",
       "\n",
       "[10657 rows x 3 columns]"
      ]
     },
     "execution_count": 33,
     "metadata": {},
     "output_type": "execute_result"
    }
   ],
   "source": [
    "pd.concat([casos_es,casos_fr,casos_it],axis=1)"
   ]
  },
  {
   "cell_type": "markdown",
   "metadata": {
    "slideshow": {
     "slide_type": "slide"
    }
   },
   "source": [
    "Vamos a cambiar los nombres de las columnas a los respectivos países para poder distinguirlos tanto en la tabla como en el gráfico. "
   ]
  },
  {
   "cell_type": "code",
   "execution_count": 37,
   "metadata": {},
   "outputs": [],
   "source": [
    "vs = pd.concat([casos_es,casos_fr,casos_it],axis=1)"
   ]
  },
  {
   "cell_type": "code",
   "execution_count": 38,
   "metadata": {},
   "outputs": [],
   "source": [
    "vs.columns = ['España','Francia','Italia']"
   ]
  },
  {
   "cell_type": "code",
   "execution_count": 41,
   "metadata": {},
   "outputs": [
    {
     "data": {
      "text/html": [
       "<div>\n",
       "<style scoped>\n",
       "    .dataframe tbody tr th:only-of-type {\n",
       "        vertical-align: middle;\n",
       "    }\n",
       "\n",
       "    .dataframe tbody tr th {\n",
       "        vertical-align: top;\n",
       "    }\n",
       "\n",
       "    .dataframe thead th {\n",
       "        text-align: right;\n",
       "    }\n",
       "</style>\n",
       "<table border=\"1\" class=\"dataframe\">\n",
       "  <thead>\n",
       "    <tr style=\"text-align: right;\">\n",
       "      <th></th>\n",
       "      <th>España</th>\n",
       "      <th>Francia</th>\n",
       "      <th>Italia</th>\n",
       "    </tr>\n",
       "    <tr>\n",
       "      <th>Date</th>\n",
       "      <th></th>\n",
       "      <th></th>\n",
       "      <th></th>\n",
       "    </tr>\n",
       "  </thead>\n",
       "  <tbody>\n",
       "    <tr>\n",
       "      <th>2020-01-22 00:00:00+00:00</th>\n",
       "      <td>0.0</td>\n",
       "      <td>0</td>\n",
       "      <td>0.0</td>\n",
       "    </tr>\n",
       "    <tr>\n",
       "      <th>2020-01-22 00:00:00+00:00</th>\n",
       "      <td>0.0</td>\n",
       "      <td>0</td>\n",
       "      <td>0.0</td>\n",
       "    </tr>\n",
       "    <tr>\n",
       "      <th>2020-01-22 00:00:00+00:00</th>\n",
       "      <td>0.0</td>\n",
       "      <td>0</td>\n",
       "      <td>0.0</td>\n",
       "    </tr>\n",
       "    <tr>\n",
       "      <th>2020-01-22 00:00:00+00:00</th>\n",
       "      <td>0.0</td>\n",
       "      <td>0</td>\n",
       "      <td>0.0</td>\n",
       "    </tr>\n",
       "    <tr>\n",
       "      <th>2020-01-22 00:00:00+00:00</th>\n",
       "      <td>0.0</td>\n",
       "      <td>0</td>\n",
       "      <td>0.0</td>\n",
       "    </tr>\n",
       "    <tr>\n",
       "      <th>...</th>\n",
       "      <td>...</td>\n",
       "      <td>...</td>\n",
       "      <td>...</td>\n",
       "    </tr>\n",
       "    <tr>\n",
       "      <th>2022-06-27 00:00:00+00:00</th>\n",
       "      <td>12681820.0</td>\n",
       "      <td>37877</td>\n",
       "      <td>18259261.0</td>\n",
       "    </tr>\n",
       "    <tr>\n",
       "      <th>2022-06-27 00:00:00+00:00</th>\n",
       "      <td>12681820.0</td>\n",
       "      <td>4671</td>\n",
       "      <td>18259261.0</td>\n",
       "    </tr>\n",
       "    <tr>\n",
       "      <th>2022-06-27 00:00:00+00:00</th>\n",
       "      <td>12681820.0</td>\n",
       "      <td>85596</td>\n",
       "      <td>18259261.0</td>\n",
       "    </tr>\n",
       "    <tr>\n",
       "      <th>2022-06-27 00:00:00+00:00</th>\n",
       "      <td>12681820.0</td>\n",
       "      <td>421269</td>\n",
       "      <td>18259261.0</td>\n",
       "    </tr>\n",
       "    <tr>\n",
       "      <th>2022-06-28 00:00:00+00:00</th>\n",
       "      <td>NaN</td>\n",
       "      <td>29823387</td>\n",
       "      <td>NaN</td>\n",
       "    </tr>\n",
       "  </tbody>\n",
       "</table>\n",
       "<p>10657 rows × 3 columns</p>\n",
       "</div>"
      ],
      "text/plain": [
       "                               España   Francia      Italia\n",
       "Date                                                       \n",
       "2020-01-22 00:00:00+00:00         0.0         0         0.0\n",
       "2020-01-22 00:00:00+00:00         0.0         0         0.0\n",
       "2020-01-22 00:00:00+00:00         0.0         0         0.0\n",
       "2020-01-22 00:00:00+00:00         0.0         0         0.0\n",
       "2020-01-22 00:00:00+00:00         0.0         0         0.0\n",
       "...                               ...       ...         ...\n",
       "2022-06-27 00:00:00+00:00  12681820.0     37877  18259261.0\n",
       "2022-06-27 00:00:00+00:00  12681820.0      4671  18259261.0\n",
       "2022-06-27 00:00:00+00:00  12681820.0     85596  18259261.0\n",
       "2022-06-27 00:00:00+00:00  12681820.0    421269  18259261.0\n",
       "2022-06-28 00:00:00+00:00         NaN  29823387         NaN\n",
       "\n",
       "[10657 rows x 3 columns]"
      ]
     },
     "execution_count": 41,
     "metadata": {},
     "output_type": "execute_result"
    }
   ],
   "source": [
    "vs"
   ]
  },
  {
   "cell_type": "markdown",
   "metadata": {},
   "source": [
    "Y finalmente hacemos plot para visualizarlo gráficamente."
   ]
  },
  {
   "cell_type": "code",
   "execution_count": 46,
   "metadata": {},
   "outputs": [
    {
     "data": {
      "text/plain": [
       "<AxesSubplot:title={'center':'Casos de COVID-19: comparativa de España, Francia e Italia'}, xlabel='Date'>"
      ]
     },
     "execution_count": 46,
     "metadata": {},
     "output_type": "execute_result"
    },
    {
     "data": {
      "image/png": "[encoded data removed]",
      "text/plain": [
       "<Figure size 432x288 with 1 Axes>"
      ]
     },
     "metadata": {
      "needs_background": "light"
     },
     "output_type": "display_data"
    }
   ],
   "source": [
    "vs.plot(title=\"Casos de COVID-19: comparativa de España, Francia e Italia\")"
   ]
  },
  {
   "cell_type": "markdown",
   "metadata": {},
   "source": [
    "No funciona muy bien, en las operaciones siguientes probamos con españa e italia, los datos de francia deben ser el problema. El procedimiento seguido para el gráfico de 3 es correcto. "
   ]
  },
  {
   "cell_type": "code",
   "execution_count": 52,
   "metadata": {},
   "outputs": [
    {
     "data": {
      "text/html": [
       "<div>\n",
       "<style scoped>\n",
       "    .dataframe tbody tr th:only-of-type {\n",
       "        vertical-align: middle;\n",
       "    }\n",
       "\n",
       "    .dataframe tbody tr th {\n",
       "        vertical-align: top;\n",
       "    }\n",
       "\n",
       "    .dataframe thead th {\n",
       "        text-align: right;\n",
       "    }\n",
       "</style>\n",
       "<table border=\"1\" class=\"dataframe\">\n",
       "  <thead>\n",
       "    <tr style=\"text-align: right;\">\n",
       "      <th></th>\n",
       "      <th>Cases</th>\n",
       "      <th>Cases</th>\n",
       "    </tr>\n",
       "    <tr>\n",
       "      <th>Date</th>\n",
       "      <th></th>\n",
       "      <th></th>\n",
       "    </tr>\n",
       "  </thead>\n",
       "  <tbody>\n",
       "    <tr>\n",
       "      <th>2020-01-22 00:00:00+00:00</th>\n",
       "      <td>0</td>\n",
       "      <td>0</td>\n",
       "    </tr>\n",
       "    <tr>\n",
       "      <th>2020-01-23 00:00:00+00:00</th>\n",
       "      <td>0</td>\n",
       "      <td>0</td>\n",
       "    </tr>\n",
       "    <tr>\n",
       "      <th>2020-01-24 00:00:00+00:00</th>\n",
       "      <td>0</td>\n",
       "      <td>0</td>\n",
       "    </tr>\n",
       "    <tr>\n",
       "      <th>2020-01-25 00:00:00+00:00</th>\n",
       "      <td>0</td>\n",
       "      <td>0</td>\n",
       "    </tr>\n",
       "    <tr>\n",
       "      <th>2020-01-26 00:00:00+00:00</th>\n",
       "      <td>0</td>\n",
       "      <td>0</td>\n",
       "    </tr>\n",
       "    <tr>\n",
       "      <th>...</th>\n",
       "      <td>...</td>\n",
       "      <td>...</td>\n",
       "    </tr>\n",
       "    <tr>\n",
       "      <th>2022-06-23 00:00:00+00:00</th>\n",
       "      <td>12613634</td>\n",
       "      <td>18071634</td>\n",
       "    </tr>\n",
       "    <tr>\n",
       "      <th>2022-06-24 00:00:00+00:00</th>\n",
       "      <td>12681820</td>\n",
       "      <td>18128044</td>\n",
       "    </tr>\n",
       "    <tr>\n",
       "      <th>2022-06-25 00:00:00+00:00</th>\n",
       "      <td>12681820</td>\n",
       "      <td>18184917</td>\n",
       "    </tr>\n",
       "    <tr>\n",
       "      <th>2022-06-26 00:00:00+00:00</th>\n",
       "      <td>12681820</td>\n",
       "      <td>18234242</td>\n",
       "    </tr>\n",
       "    <tr>\n",
       "      <th>2022-06-27 00:00:00+00:00</th>\n",
       "      <td>12681820</td>\n",
       "      <td>18259261</td>\n",
       "    </tr>\n",
       "  </tbody>\n",
       "</table>\n",
       "<p>888 rows × 2 columns</p>\n",
       "</div>"
      ],
      "text/plain": [
       "                              Cases     Cases\n",
       "Date                                         \n",
       "2020-01-22 00:00:00+00:00         0         0\n",
       "2020-01-23 00:00:00+00:00         0         0\n",
       "2020-01-24 00:00:00+00:00         0         0\n",
       "2020-01-25 00:00:00+00:00         0         0\n",
       "2020-01-26 00:00:00+00:00         0         0\n",
       "...                             ...       ...\n",
       "2022-06-23 00:00:00+00:00  12613634  18071634\n",
       "2022-06-24 00:00:00+00:00  12681820  18128044\n",
       "2022-06-25 00:00:00+00:00  12681820  18184917\n",
       "2022-06-26 00:00:00+00:00  12681820  18234242\n",
       "2022-06-27 00:00:00+00:00  12681820  18259261\n",
       "\n",
       "[888 rows x 2 columns]"
      ]
     },
     "execution_count": 52,
     "metadata": {},
     "output_type": "execute_result"
    }
   ],
   "source": [
    "pd.concat([casos_es,casos_it],axis=1)"
   ]
  },
  {
   "cell_type": "code",
   "execution_count": 54,
   "metadata": {},
   "outputs": [],
   "source": [
    "vs = pd.concat([casos_es,casos_it],axis=1)"
   ]
  },
  {
   "cell_type": "code",
   "execution_count": 49,
   "metadata": {},
   "outputs": [
    {
     "data": {
      "text/html": [
       "<div>\n",
       "<style scoped>\n",
       "    .dataframe tbody tr th:only-of-type {\n",
       "        vertical-align: middle;\n",
       "    }\n",
       "\n",
       "    .dataframe tbody tr th {\n",
       "        vertical-align: top;\n",
       "    }\n",
       "\n",
       "    .dataframe thead th {\n",
       "        text-align: right;\n",
       "    }\n",
       "</style>\n",
       "<table border=\"1\" class=\"dataframe\">\n",
       "  <thead>\n",
       "    <tr style=\"text-align: right;\">\n",
       "      <th></th>\n",
       "      <th>Cases</th>\n",
       "      <th>Cases</th>\n",
       "    </tr>\n",
       "    <tr>\n",
       "      <th>Date</th>\n",
       "      <th></th>\n",
       "      <th></th>\n",
       "    </tr>\n",
       "  </thead>\n",
       "  <tbody>\n",
       "    <tr>\n",
       "      <th>2020-01-22 00:00:00+00:00</th>\n",
       "      <td>0.0</td>\n",
       "      <td>0</td>\n",
       "    </tr>\n",
       "    <tr>\n",
       "      <th>2020-01-22 00:00:00+00:00</th>\n",
       "      <td>0.0</td>\n",
       "      <td>0</td>\n",
       "    </tr>\n",
       "    <tr>\n",
       "      <th>2020-01-22 00:00:00+00:00</th>\n",
       "      <td>0.0</td>\n",
       "      <td>0</td>\n",
       "    </tr>\n",
       "    <tr>\n",
       "      <th>2020-01-22 00:00:00+00:00</th>\n",
       "      <td>0.0</td>\n",
       "      <td>0</td>\n",
       "    </tr>\n",
       "    <tr>\n",
       "      <th>2020-01-22 00:00:00+00:00</th>\n",
       "      <td>0.0</td>\n",
       "      <td>0</td>\n",
       "    </tr>\n",
       "    <tr>\n",
       "      <th>...</th>\n",
       "      <td>...</td>\n",
       "      <td>...</td>\n",
       "    </tr>\n",
       "    <tr>\n",
       "      <th>2022-06-27 00:00:00+00:00</th>\n",
       "      <td>12681820.0</td>\n",
       "      <td>37877</td>\n",
       "    </tr>\n",
       "    <tr>\n",
       "      <th>2022-06-27 00:00:00+00:00</th>\n",
       "      <td>12681820.0</td>\n",
       "      <td>4671</td>\n",
       "    </tr>\n",
       "    <tr>\n",
       "      <th>2022-06-27 00:00:00+00:00</th>\n",
       "      <td>12681820.0</td>\n",
       "      <td>85596</td>\n",
       "    </tr>\n",
       "    <tr>\n",
       "      <th>2022-06-27 00:00:00+00:00</th>\n",
       "      <td>12681820.0</td>\n",
       "      <td>421269</td>\n",
       "    </tr>\n",
       "    <tr>\n",
       "      <th>2022-06-28 00:00:00+00:00</th>\n",
       "      <td>NaN</td>\n",
       "      <td>29823387</td>\n",
       "    </tr>\n",
       "  </tbody>\n",
       "</table>\n",
       "<p>10657 rows × 2 columns</p>\n",
       "</div>"
      ],
      "text/plain": [
       "                                Cases     Cases\n",
       "Date                                           \n",
       "2020-01-22 00:00:00+00:00         0.0         0\n",
       "2020-01-22 00:00:00+00:00         0.0         0\n",
       "2020-01-22 00:00:00+00:00         0.0         0\n",
       "2020-01-22 00:00:00+00:00         0.0         0\n",
       "2020-01-22 00:00:00+00:00         0.0         0\n",
       "...                               ...       ...\n",
       "2022-06-27 00:00:00+00:00  12681820.0     37877\n",
       "2022-06-27 00:00:00+00:00  12681820.0      4671\n",
       "2022-06-27 00:00:00+00:00  12681820.0     85596\n",
       "2022-06-27 00:00:00+00:00  12681820.0    421269\n",
       "2022-06-28 00:00:00+00:00         NaN  29823387\n",
       "\n",
       "[10657 rows x 2 columns]"
      ]
     },
     "execution_count": 49,
     "metadata": {},
     "output_type": "execute_result"
    }
   ],
   "source": [
    "vs"
   ]
  },
  {
   "cell_type": "code",
   "execution_count": 55,
   "metadata": {},
   "outputs": [],
   "source": [
    "vs.columns = ['España','Italia']"
   ]
  },
  {
   "cell_type": "code",
   "execution_count": 56,
   "metadata": {},
   "outputs": [
    {
     "data": {
      "text/plain": [
       "<AxesSubplot:title={'center':'España vs Italia'}, xlabel='Date'>"
      ]
     },
     "execution_count": 56,
     "metadata": {},
     "output_type": "execute_result"
    },
    {
     "data": {
      "image/png": "[encoded data removed]",
      "text/plain": [
       "<Figure size 432x288 with 1 Axes>"
      ]
     },
     "metadata": {
      "needs_background": "light"
     },
     "output_type": "display_data"
    }
   ],
   "source": [
    "vs.plot(title=\"España vs Italia\")"
   ]
  }
 ],
 "metadata": {
  "kernelspec": {
   "display_name": "Python 3",
   "language": "python",
   "name": "python3"
  },
  "language_info": {
   "codemirror_mode": {
    "name": "ipython",
    "version": 3
   },
   "file_extension": ".py",
   "mimetype": "text/x-python",
   "name": "python",
   "nbconvert_exporter": "python",
   "pygments_lexer": "ipython3",
   "version": "3.8.10"
  }
 },
 "nbformat": 4,
 "nbformat_minor": 4
}
